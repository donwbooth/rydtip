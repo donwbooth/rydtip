{
 "cells": [
  {
   "cell_type": "code",
   "execution_count": 1,
   "metadata": {
    "collapsed": false
   },
   "outputs": [],
   "source": [
    "from scipy.constants import physical_constants as pc\n",
    "import numpy as np"
   ]
  },
  {
   "cell_type": "markdown",
   "metadata": {},
   "source": [
    "## Common functions"
   ]
  },
  {
   "cell_type": "code",
   "execution_count": 2,
   "metadata": {
    "collapsed": false
   },
   "outputs": [],
   "source": [
    "me = pc['electron mass']\n",
    "c = pc['speed of light in vacuum']\n",
    "Ry = pc['Rydberg constant']"
   ]
  },
  {
   "cell_type": "code",
   "execution_count": 3,
   "metadata": {
    "collapsed": true
   },
   "outputs": [],
   "source": [
    "class Atom:\n",
    "    def __init__(self, Name, Z, Inuc):\n",
    "        self.Name = Name\n",
    "        self.Z = Z\n",
    "        self.Inuc = Inuc\n",
    "        self.Configuration = -1\n",
    "        self.NGround = -1\n",
    "        self.FD2 = -1\n",
    "        self.FD1 = -1"
   ]
  },
  {
   "cell_type": "code",
   "execution_count": 4,
   "metadata": {
    "collapsed": true
   },
   "outputs": [],
   "source": [
    "# adds error terms in quadrature\n",
    "def error_adder(*errTerms):\n",
    "    total = 0\n",
    "    for e in list(errTerms):\n",
    "        if e is None:\n",
    "            return None\n",
    "        total += e**2\n",
    "    return np.sqrt(total)"
   ]
  },
  {
   "cell_type": "code",
   "execution_count": 74,
   "metadata": {
    "collapsed": true
   },
   "outputs": [],
   "source": [
    "def QD(atom, n, l, j=-1):# TODO enter low-lying level explicitly\n",
    "    js=str(j)\n",
    "    ls=str(l)\n",
    "    ns=str(n)\n",
    "    \n",
    "    qdterms = [atom.QD0, atom.QD2, atom.QD4]\n",
    "    if j>0: # fine structure\n",
    "        # first look for explicitly defined values\n",
    "        try:\n",
    "            return atom.QD[ns][ls][js]\n",
    "        except:\n",
    "            pass\n",
    "        # if not a pre-defined value then calculate the value\n",
    "        try:\n",
    "            qds = [x[l][js][0] for x in qdterms]\n",
    "        except IndexError:\n",
    "            # defect is 0 for unlisted values\n",
    "            return [0 , '', None]\n",
    "        except KeyError:\n",
    "            # possible actual error\n",
    "            raise KeyError\n",
    "    else: # nl basis\n",
    "        try:\n",
    "            js1 = str(l-0.5)\n",
    "            js2 = str(l+0.5)\n",
    "            if l==0:\n",
    "                qds = [x[l]['0.5'][0] for x in qdterms]\n",
    "            else:\n",
    "                qds = [ (l*x[l][js1][0] + (l+1)*x[l][js2][0])/(2*l+1) for x in qdterms]\n",
    "        except IndexError:\n",
    "            # defect is 0 for unlisted values\n",
    "            return [0 , '', None]\n",
    "        except KeyError:\n",
    "            # possible actual error\n",
    "            raise KeyError\n",
    "    qd = 0\n",
    "    for i, x in enumerate(qds):\n",
    "        qd += x/((n-qds[0])**(2*i))\n",
    "    return [qd, '', None]    "
   ]
  },
  {
   "cell_type": "code",
   "execution_count": 75,
   "metadata": {
    "collapsed": false
   },
   "outputs": [],
   "source": [
    "# returns the ionization energy for the input atom in the format\n",
    "# [ value, unit, uncertainty ], similar to scipy.constants\n",
    "def TermEnergy(atom, n, l, j):\n",
    "    try:\n",
    "        js = str(j)\n",
    "        ls = str(l)\n",
    "        ns = str(n)\n",
    "        # if the \n",
    "        term = atom.TermEnergy[ns][ls][js]\n",
    "        #print(\"predefined term energy: {}\".format(term))\n",
    "    except KeyError:\n",
    "        # possible actual error\n",
    "        if abs(float(j)-float(l)) != 0.5:\n",
    "            print(n,j,l)\n",
    "            raise KeyError\n",
    "        # if j level is valid then perform calculation\n",
    "        qd = QD(atom, int(n), l, j)\n",
    "        try:\n",
    "            uncert = error_adder(\n",
    "                atom.Rydberg[2]/((int(n) - qd[0])**2),\n",
    "                2*atom.Rydberg[0]*qd[2]/((int(n) - qd[0])**3)\n",
    "            )\n",
    "        except TypeError:\n",
    "            uncert = None\n",
    "        term = [-atom.Rydberg[0]/((int(n) - qd[0])**2), atom.Rydberg[1], uncert]\n",
    "        print(\"procedural term energy: {}\".format(term))\n",
    "    return term"
   ]
  },
  {
   "cell_type": "code",
   "execution_count": 76,
   "metadata": {
    "collapsed": true
   },
   "outputs": [],
   "source": [
    "def q_adder(q1, q2):\n",
    "    if q1[1] != q2[1]:\n",
    "        raise UnitError\n",
    "    if (q1[2] is None) or (q2[2] is None):\n",
    "        uncert = None\n",
    "    else:\n",
    "        uncert = q1[2]+q2[2]\n",
    "    return [q1[0]+q2[0], q1[1], uncert]"
   ]
  },
  {
   "cell_type": "markdown",
   "metadata": {},
   "source": [
    "# RB87"
   ]
  },
  {
   "cell_type": "markdown",
   "metadata": {},
   "source": [
    "## Genernal Info"
   ]
  },
  {
   "cell_type": "code",
   "execution_count": 93,
   "metadata": {
    "collapsed": false
   },
   "outputs": [],
   "source": [
    "Rb87=Atom('Rb87',37,1.5)\n",
    "Rb87.Configuration = '[Kr]5s1'\n",
    "Rb87.NGround = 5\n",
    "\n",
    "Rb87.mass = [1.443160648e-25, 'kg', 72e-34] # Steck (2015) [4]\n",
    "\n",
    "# simple error propagation\n",
    "rmeuncert = np.sqrt((Rb87.mass[0]**4)*(me[2]**2)+(me[0]**4)*(Rb87.mass[2]**2))/((me[0]+Rb87.mass[0])**2)\n",
    "Rb87.reduced_electron_mass = [me[0]/(1.0 + me[0]/Rb87.mass[0]), 'kg', rmeuncert]\n",
    "Rb87.Rydberg = [Ry[0]*(Rb87.reduced_electron_mass[0]/me[0]), '1/m', None]\n",
    "\n",
    "Rb87.TermEnergyGround = [-3369080.48, '1/m', None] # ground state Hall http://dx.doi.org/10.1364/OL.3.000141"
   ]
  },
  {
   "cell_type": "code",
   "execution_count": 78,
   "metadata": {
    "collapsed": true
   },
   "outputs": [],
   "source": [
    "Rb87.FD1 = [3.7710746322085408911e14, 'Hz', None] # Maric et al (2008) http://dx.doi.org/10.1103/PhysRevA.77.032502\n",
    "Rb87.FD2 = [3.8423048457422908911e14, 'Hz', None] # Marian et al (2004) http://dx.doi.org/10.1126/science.1105660\n",
    "Rb87.LambdaD1 = [c[0]/Rb87.FD1[0], 'm', None]\n",
    "Rb87.LambdaD2 = [c[0]/Rb87.FD2[0], 'm', None]\n",
    "Rb87.KD1 = [2*np.pi*Rb87.FD1[0]/c[0], 'rad/m', None]\n",
    "Rb87.KD2 = [2*np.pi*Rb87.FD2[0]/c[0], 'rad/m', None]\n",
    "Rb87.Ahfs = {\n",
    "        '5S1/2': [3.417341305452145e9, 'Hz', 45e-6] # Steck (2015) from [29]\n",
    "        ,'5P1/2': [408.3295e6, 'Hz', None] # Maric et al (2008) http://dx.doi.org/10.1103/PhysRevA.77.032502\n",
    "        ,'5P3/2': [84.7185e6, 'Hz', 2e3] # Steck (2015) from [9]\n",
    "    }\n",
    "Rb87.Bhfs = {\n",
    "        '5P3/2': [12.4965e6, 'Hz', 3.7e3] # Steck (2015) from [9]\n",
    "    }\n",
    "Rb87.Linewidth = {\n",
    "        '5P': [2*np.pi*6.065e6, '1/s', None] # Mark?\n",
    "        ,'5P1/2': [2*np.pi*5.7500e6, '1/s', 35e3] # Steck (2015) [18,19,21]\n",
    "        ,'5P3/2': [2*np.pi*6.0666e6, '1/s', 11e3] # Steck (2015) ?\n",
    "    }"
   ]
  },
  {
   "cell_type": "code",
   "execution_count": 79,
   "metadata": {
    "collapsed": true
   },
   "outputs": [],
   "source": [
    "Rb87.IsatD2 = {\n",
    "        'cycling' : [16.6933, 'W/m^2', 0.0035 ] # Steck (2015) ?\n",
    "        ,'isotropic' : [35.7713, 'W/m^2', 0.0074 ] # Steck (2015) ?\n",
    "        ,'pi' : [ 25.0399, 'W/m^2', 0.0052 ] # Steck (2015) ?, \n",
    "    }\n",
    "Rb87.IsatD1 = {\n",
    "        'pi' : [44.876, 'W/m^2', 0.031 ] # Steck (2015) ?\n",
    "    }"
   ]
  },
  {
   "cell_type": "markdown",
   "metadata": {},
   "source": [
    "## Select Experimental Spectral Lines"
   ]
  },
  {
   "cell_type": "code",
   "execution_count": 102,
   "metadata": {
    "collapsed": false
   },
   "outputs": [],
   "source": [
    "Rb87.TermEnergy = { # explicit low lying level term energys\n",
    "    '4' : { # n=4\n",
    "        '2' : { #L=2 D\n",
    "            '1.5' : q_adder(Rb87.TermEnergyGround, [1935564.9, '1/m', None])\n",
    "            ,'2.5' : q_adder(Rb87.TermEnergyGround, [ 1935520.3, '1/m', None])\n",
    "        }\n",
    "        ,'3' : { #L=3 F\n",
    "            '2.5' : q_adder(Rb87.TermEnergyGround, [ 2679209.2, '1/m', None])\n",
    "            ,'3.5' : q_adder(Rb87.TermEnergyGround, [ 2679211.8, '1/m', None])\n",
    "        }\n",
    "    }\n",
    "    ,'5' : { # n=5\n",
    "        '0' : { #L=0 S\n",
    "            '0.5' : Rb87.TermEnergyGround\n",
    "        }\n",
    "        ,'1' : { #L=1 P\n",
    "            '0.5' : q_adder(Rb87.TermEnergyGround, [ 1257895.098147, '1/m', None])\n",
    "            ,'1.5' : q_adder(Rb87.TermEnergyGround, [ 1281654.938993, '1/m', None])\n",
    "        }\n",
    "        ,'2' : { #L=2 D\n",
    "            '1.5' : q_adder(Rb87.TermEnergyGround, [ 2570053.6, '1/m', None])\n",
    "            ,'2.5' : q_adder(Rb87.TermEnergyGround, [ 2570349.8, '1/m', None])\n",
    "        }\n",
    "    }\n",
    "    ,'6' : { # n=6\n",
    "        '0' : { #L=0 S\n",
    "            '0.5' : q_adder(Rb87.TermEnergyGround, [ 2013251.0, '1/m', None])\n",
    "        }\n",
    "        ,'1' : { #L=1 P\n",
    "            '0.5' : q_adder(Rb87.TermEnergyGround, [ 2371508.1, '1/m', None])\n",
    "            ,'1.5' : q_adder(Rb87.TermEnergyGround, [ 2379259.1, '1/m', None])\n",
    "        }\n",
    "        ,'2' : { #L=2 D\n",
    "            '1.5' : q_adder(Rb87.TermEnergyGround, [ 2868712.7, '1/m', None])\n",
    "            ,'2.5' : q_adder(Rb87.TermEnergyGround, [ 2868939.0, '1/m', None])\n",
    "        }\n",
    "    }\n",
    "    ,'7' : { # n=7\n",
    "        '0' : { #L=0 S\n",
    "            '0.5' : q_adder(Rb87.TermEnergyGround, [ 2631143.7, '1/m', None])\n",
    "        }\n",
    "        ,'1' : { #L=1 P\n",
    "            '0.5' : q_adder(Rb87.TermEnergyGround, [ 2783502., '1/m', None])\n",
    "            ,'1.5' : q_adder(Rb87.TermEnergyGround, [ 2787011., '1/m', None])\n",
    "        }\n",
    "        ,'2' : { #L=2 D\n",
    "            '1.5' : q_adder(Rb87.TermEnergyGround, [ 2868712.7, '1/m', None])\n",
    "            ,'2.5' : q_adder(Rb87.TermEnergyGround, [ 2868939.0, '1/m', None])\n",
    "        }\n",
    "    }\n",
    "    ,'8' : { # n=8\n",
    "        '0' : { #L=0 S\n",
    "            '0.5' : q_adder(Rb87.TermEnergyGround, [ 2904681.6, '1/m', None])\n",
    "        }\n",
    "        ,'1' : { #L=1 P\n",
    "            '0.5' : q_adder(Rb87.TermEnergyGround, [ 2983494., '1/m', None])\n",
    "            ,'1.5' : q_adder(Rb87.TermEnergyGround, [ 2985379., '1/m', None])\n",
    "        }\n",
    "    }\n",
    "    ,'9' : { # n=9\n",
    "        '1' : { #L=1 P\n",
    "            '0.5' : q_adder(Rb87.TermEnergyGround, [ 3095894., '1/m', None])\n",
    "            ,'1.5' : q_adder(Rb87.TermEnergyGround, [ 3097022., '1/m', None])\n",
    "        }\n",
    "    }\n",
    "    ,'10' : { # n=10\n",
    "        '1' : { #L=1 P\n",
    "            '0.5' : q_adder(Rb87.TermEnergyGround, [ 3165388., '1/m', None])\n",
    "            ,'1.5' : q_adder(Rb87.TermEnergyGround, [ 3166119., '1/m', None])\n",
    "        }\n",
    "    }\n",
    "    ,'11' : { # n=11\n",
    "        '1' : { #L=1 P\n",
    "            '0.5' : q_adder(Rb87.TermEnergyGround, [ 3211358., '1/m', None])\n",
    "            ,'1.5' : q_adder(Rb87.TermEnergyGround, [ 3211855., '1/m', None])\n",
    "        }\n",
    "    }\n",
    "    ,'12' : { # n=11\n",
    "        '1' : { #L=1 P\n",
    "            '0.5' : q_adder(Rb87.TermEnergyGround, [ 3243350., '1/m', None])\n",
    "            ,'1.5' : q_adder(Rb87.TermEnergyGround, [ 3243704., '1/m', None])\n",
    "        }\n",
    "    }\n",
    "}"
   ]
  },
  {
   "cell_type": "markdown",
   "metadata": {},
   "source": [
    "## Quantum Defects"
   ]
  },
  {
   "cell_type": "code",
   "execution_count": 103,
   "metadata": {
    "collapsed": true
   },
   "outputs": [],
   "source": [
    "Rb87.QD0 = [ # 0th order qd terms\n",
    "    { # L = 0, S\n",
    "        '0.5' : [3.1311804, '', None]\n",
    "    }\n",
    "    ,{ # L = 1, P\n",
    "        '0.5' : [2.6548849, '', None]\n",
    "        ,'1.5': [2.6416737, '', None]\n",
    "    }\n",
    "    ,{ # L = 2, D\n",
    "        '1.5' : [1.34809171, '', None]\n",
    "        ,'2.5': [1.34646572, '', None]\n",
    "    }\n",
    "    ,{ # L = 3, F\n",
    "        '2.5' : [0.0165192, '', None]\n",
    "        ,'3.5': [0.0165437, '', None]\n",
    "    }\n",
    "]\n",
    "Rb87.QD2 = [ # 2nd order qd terms\n",
    "    { # L = 0, S\n",
    "        '0.5' : [0.1784, '', None]\n",
    "    }\n",
    "    ,{ # L = 1, P\n",
    "        '0.5' : [0.2900, '', None]\n",
    "        ,'1.5': [0.2950, '', None]\n",
    "    }\n",
    "    ,{ # L = 2, D\n",
    "        '1.5' : [-0.60286, '', None]\n",
    "        ,'2.5': [-0.59600, '', None]\n",
    "    }\n",
    "    ,{ # L = 3, F\n",
    "        '2.5' : [-0.085, '', None]\n",
    "        ,'3.5': [-0.086, '', None]\n",
    "    }\n",
    "]\n",
    "Rb87.QD4 = [ # 4th order qd terms\n",
    "    { # L = 0, S\n",
    "        '0.5' : [-1.8, '', None]\n",
    "    }\n",
    "    ,{ # L = 1, P\n",
    "        '0.5' : [-7.904, '', None]\n",
    "        ,'1.5': [-0.97495, '', None]\n",
    "    }\n",
    "    ,{ # L = 2, D\n",
    "        '1.5' : [-1.50517, '', None]\n",
    "        ,'2.5': [-1.50517, '', None]\n",
    "    }\n",
    "    ,{ # L = 3, F\n",
    "        '2.5' : [-0.36005, '', None]\n",
    "        ,'3.5': [-0.36005, '', None]\n",
    "    }\n",
    "]"
   ]
  },
  {
   "cell_type": "markdown",
   "metadata": {},
   "source": [
    "## Generating Quantum Defects from Explicit Spectral Lines"
   ]
  },
  {
   "cell_type": "code",
   "execution_count": 104,
   "metadata": {
    "collapsed": false
   },
   "outputs": [
    {
     "name": "stdout",
     "output_type": "stream",
     "text": [
      "predefined term energy: [-157225.47999999998, '1/m', None]\n",
      "[-157225.47999999998, '1/m', None]\n",
      "predefined term energy: [-157722.47999999998, '1/m', None]\n",
      "[-157722.47999999998, '1/m', None]\n",
      "predefined term energy: [-202961.47999999998, '1/m', None]\n",
      "[-202961.47999999998, '1/m', None]\n",
      "predefined term energy: [-203692.47999999998, '1/m', None]\n",
      "[-203692.47999999998, '1/m', None]\n",
      "predefined term energy: [-125376.47999999998, '1/m', None]\n",
      "[-125376.47999999998, '1/m', None]\n",
      "predefined term energy: [-125730.47999999998, '1/m', None]\n",
      "[-125730.47999999998, '1/m', None]\n",
      "predefined term energy: [-2087425.541007, '1/m', None]\n",
      "[-2087425.541007, '1/m', None]\n",
      "predefined term energy: [-2111185.3818530003, '1/m', None]\n",
      "[-2111185.3818530003, '1/m', None]\n",
      "predefined term energy: [-3369080.48, '1/m', None]\n",
      "[-3369080.48, '1/m', None]\n",
      "predefined term energy: [-799026.8799999999, '1/m', None]\n",
      "[-799026.8799999999, '1/m', None]\n",
      "predefined term energy: [-798730.6800000002, '1/m', None]\n",
      "[-798730.6800000002, '1/m', None]\n",
      "predefined term energy: [-689868.6800000002, '1/m', None]\n",
      "[-689868.6800000002, '1/m', None]\n",
      "predefined term energy: [-689871.2799999998, '1/m', None]\n",
      "[-689871.2799999998, '1/m', None]\n",
      "predefined term energy: [-1433515.58, '1/m', None]\n",
      "[-1433515.58, '1/m', None]\n",
      "predefined term energy: [-1433560.18, '1/m', None]\n",
      "[-1433560.18, '1/m', None]\n",
      "predefined term energy: [-582069.48, '1/m', None]\n",
      "[-582069.48, '1/m', None]\n",
      "predefined term energy: [-585578.48, '1/m', None]\n",
      "[-585578.48, '1/m', None]\n",
      "predefined term energy: [-737936.7799999998, '1/m', None]\n",
      "[-737936.7799999998, '1/m', None]\n",
      "predefined term energy: [-500367.7799999998, '1/m', None]\n",
      "[-500367.7799999998, '1/m', None]\n",
      "predefined term energy: [-500141.48, '1/m', None]\n",
      "[-500141.48, '1/m', None]\n",
      "predefined term energy: [-989821.3799999999, '1/m', None]\n",
      "[-989821.3799999999, '1/m', None]\n",
      "predefined term energy: [-997572.3799999999, '1/m', None]\n",
      "[-997572.3799999999, '1/m', None]\n",
      "predefined term energy: [-1355829.48, '1/m', None]\n",
      "[-1355829.48, '1/m', None]\n",
      "predefined term energy: [-500367.7799999998, '1/m', None]\n",
      "[-500367.7799999998, '1/m', None]\n",
      "predefined term energy: [-500141.48, '1/m', None]\n",
      "[-500141.48, '1/m', None]\n",
      "predefined term energy: [-272058.48, '1/m', None]\n",
      "[-272058.48, '1/m', None]\n",
      "predefined term energy: [-273186.48, '1/m', None]\n",
      "[-273186.48, '1/m', None]\n",
      "predefined term energy: [-383701.48, '1/m', None]\n",
      "[-383701.48, '1/m', None]\n",
      "predefined term energy: [-385586.48, '1/m', None]\n",
      "[-385586.48, '1/m', None]\n",
      "predefined term energy: [-464398.8799999999, '1/m', None]\n",
      "[-464398.8799999999, '1/m', None]\n"
     ]
    },
    {
     "name": "stderr",
     "output_type": "stream",
     "text": [
      "/usr/local/lib/python2.7/dist-packages/ipykernel/__main__.py:11: RuntimeWarning: invalid value encountered in sqrt\n"
     ]
    }
   ],
   "source": [
    "# calculate defects for low-lying levels from the spectroscopy data\n",
    "Rb87.QD = {}\n",
    "for n, nd in Rb87.TermEnergy.iteritems():\n",
    "    Rb87.QD[n] = {}\n",
    "    for l, ld in nd.iteritems():\n",
    "        Rb87.QD[n][l]={}\n",
    "        for j, jd in ld.iteritems():\n",
    "            term = TermEnergy(Rb87, n, l, j)\n",
    "            try:\n",
    "                uncert = error_adder( Rb87.Rydberg[2]/(2*np.sqrt(Rb87.Rydberg[0]*term[0])), term[2]*np.sqrt(Rb87.Rydberg[0]/(4*(term[0]**3))) )\n",
    "            except TypeError:\n",
    "                uncert = None\n",
    "            Rb87.QD[n][l][j] = [int(n) - np.sqrt(-Rb87.Rydberg[0]/term[0]), '', uncert]"
   ]
  },
  {
   "cell_type": "markdown",
   "metadata": {},
   "source": [
    "## Verification of Defects with respect to Mark's old code"
   ]
  },
  {
   "cell_type": "code",
   "execution_count": 105,
   "metadata": {
    "collapsed": false
   },
   "outputs": [
    {
     "data": {
      "text/plain": [
       "[2.6489627203811255, '', None]"
      ]
     },
     "execution_count": 105,
     "metadata": {},
     "output_type": "execute_result"
    }
   ],
   "source": [
    "QD(Rb87,9,1,1.5)"
   ]
  },
  {
   "cell_type": "code",
   "execution_count": 106,
   "metadata": {
    "collapsed": false
   },
   "outputs": [
    {
     "name": "stdout",
     "output_type": "stream",
     "text": [
      "-3.02469160829e-12\n",
      "-7.8459888746e-06\n",
      "-0.000438669482906\n",
      "-5.52826658322e-05\n",
      "0\n"
     ]
    }
   ],
   "source": [
    "print(QD(Rb87,20,0,0.5)[0]-3.13178510955)\n",
    "print(QD(Rb87,9,1,1.5)[0]-2.64897056637)\n",
    "print(QD(Rb87,9,2,2.5)[0]-1.33629100633)\n",
    "print(QD(Rb87,9,3,3.5)[0]-0.0154780575013)\n",
    "print(QD(Rb87,9,4,4.5)[0]-0)"
   ]
  },
  {
   "cell_type": "code",
   "execution_count": 107,
   "metadata": {
    "collapsed": false
   },
   "outputs": [
    {
     "name": "stdout",
     "output_type": "stream",
     "text": [
      "-3.02469160829e-12\n",
      "4.00124378075e-12\n",
      "4.38404867964e-12\n",
      "-2.12555667511e-14\n",
      "0\n"
     ]
    }
   ],
   "source": [
    "print(QD(Rb87,20,0)[0]-3.13178510955)\n",
    "print(QD(Rb87,30,1)[0]-2.64646359904)\n",
    "print(QD(Rb87,9,2)[0]-1.33645400157)\n",
    "print(QD(Rb87,9,3)[0]-0.0154175880834)\n",
    "print(QD(Rb87,9,4)[0]-0)"
   ]
  },
  {
   "cell_type": "code",
   "execution_count": 108,
   "metadata": {
    "collapsed": false
   },
   "outputs": [
    {
     "name": "stdout",
     "output_type": "stream",
     "text": [
      "-5.12923037377e-13\n",
      "-6.5014660322e-13\n",
      "9.30005174649e-07\n",
      "-9.68313994765e-07\n",
      "-7.68929518724e-07\n"
     ]
    }
   ],
   "source": [
    "print(QD(Rb87,5,0,0.5)[0]-3.195237315299605)\n",
    "print(QD(Rb87,5,1,1.5)[0]-2.70717821684838)\n",
    "print(QD(Rb87,5,2,2.5)[0]-1.2934)\n",
    "print(QD(Rb87,6,0,0.5)[0]-3.15506)\n",
    "print(QD(Rb87,6,1,1.5)[0]-2.67036)"
   ]
  },
  {
   "cell_type": "code",
   "execution_count": null,
   "metadata": {
    "collapsed": true
   },
   "outputs": [],
   "source": []
  }
 ],
 "metadata": {
  "kernelspec": {
   "display_name": "Python 2",
   "language": "python",
   "name": "python2"
  },
  "language_info": {
   "codemirror_mode": {
    "name": "ipython",
    "version": 2
   },
   "file_extension": ".py",
   "mimetype": "text/x-python",
   "name": "python",
   "nbconvert_exporter": "python",
   "pygments_lexer": "ipython2",
   "version": "2.7.9"
  }
 },
 "nbformat": 4,
 "nbformat_minor": 0
}
