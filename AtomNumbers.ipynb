{
 "cells": [
  {
   "cell_type": "code",
   "execution_count": 1,
   "metadata": {
    "collapsed": false
   },
   "outputs": [],
   "source": [
    "import SIConsts as SI # change to Scipy Constants\n",
    "import numpy as np"
   ]
  },
  {
   "cell_type": "markdown",
   "metadata": {},
   "source": [
    "## Common functions"
   ]
  },
  {
   "cell_type": "code",
   "execution_count": 2,
   "metadata": {
    "collapsed": true
   },
   "outputs": [],
   "source": [
    "class Atom:\n",
    "    def __init__(self, Name, Z, Inuc):\n",
    "        self.Name = Name\n",
    "        self.Z = Z\n",
    "        self.Inuc = Inuc\n",
    "        self.Configuration = -1\n",
    "        self.NGround = -1\n",
    "        self.FD2 = -1\n",
    "        self.FD1 = -1"
   ]
  },
  {
   "cell_type": "code",
   "execution_count": 3,
   "metadata": {
    "collapsed": true
   },
   "outputs": [],
   "source": [
    "def QD(atom, n, l, j=-1):# TODO enter low-lying level explicitly\n",
    "    js=str(j)\n",
    "    ls=str(l)\n",
    "    ns=str(n)\n",
    "    if j>0: # fine structure\n",
    "        # first look for explicitly defined values\n",
    "        try:\n",
    "            qd = atom.QD[ns][ls][js]\n",
    "            #print(\"explicit defect found\")\n",
    "            return qd\n",
    "        except:\n",
    "            #print(\"no explicit defect found\")\n",
    "            pass\n",
    "        # if not a pre-defined value then calculate the value\n",
    "        try:\n",
    "            qd0 = atom.QD0[l][js]\n",
    "            qd2 = atom.QD2[l][js]\n",
    "            qd4 = atom.QD4[l][js]\n",
    "        except IndexError:\n",
    "            # defect is 0 for unlisted values\n",
    "            return 0\n",
    "        except KeyError:\n",
    "            # possible actual error\n",
    "            raise KeyError\n",
    "    else:\n",
    "        try:\n",
    "            js1 = str(l-0.5)\n",
    "            js2 = str(l+0.5)\n",
    "            if l==0:\n",
    "                qd0 = atom.QD0[l][js2]\n",
    "                qd2 = atom.QD2[l][js2]\n",
    "                qd4 = atom.QD4[l][js2]\n",
    "            else:\n",
    "                qd0 = (l*atom.QD0[l][js1] + (l+1)*atom.QD0[l][js2])/(2*l+1)\n",
    "                qd2 = (l*atom.QD2[l][js1] + (l+1)*atom.QD2[l][js2])/(2*l+1)\n",
    "                qd4 = (l*atom.QD4[l][js1] + (l+1)*atom.QD4[l][js2])/(2*l+1)\n",
    "        except IndexError:\n",
    "            # defect is 0 for unlisted values\n",
    "            return 0\n",
    "        except KeyError:\n",
    "            # possible actual error\n",
    "            raise KeyError\n",
    "    return qd0 + qd2/((n-qd0)**2) + qd4/((n-qd0)**4)\n",
    "    "
   ]
  },
  {
   "cell_type": "code",
   "execution_count": 4,
   "metadata": {
    "collapsed": false
   },
   "outputs": [],
   "source": [
    "def TermEnergy(atom, n, l, j):\n",
    "    try:\n",
    "        js = str(j)\n",
    "        ls = str(l)\n",
    "        ns = str(n)\n",
    "        # if the \n",
    "        term = atom.TermEnergy[ns][ls][js]\n",
    "    except KeyError:\n",
    "        # possible actual error\n",
    "        if abs(float(j)-float(l)) != 0.5:\n",
    "            print(n,j,l)\n",
    "            raise KeyError\n",
    "        # if j level is valid then perform calculation\n",
    "        term = -atom.RyCGS/(int(n) - QD(atom, int(n), l, j)**2)\n",
    "    return term"
   ]
  },
  {
   "cell_type": "markdown",
   "metadata": {},
   "source": [
    "# RB87"
   ]
  },
  {
   "cell_type": "markdown",
   "metadata": {},
   "source": [
    "## Genernal Info"
   ]
  },
  {
   "cell_type": "code",
   "execution_count": 5,
   "metadata": {
    "collapsed": false
   },
   "outputs": [],
   "source": [
    "Rb87=Atom('Rb87',37,1.5)\n",
    "Rb87.Configuration = '[Kr]5s1'\n",
    "Rb87.NGround = 5\n",
    "Rb87.FD1 = 3.7710746322085408911e14 # Maric et al (2008) http://dx.doi.org/10.1103/PhysRevA.77.032502\n",
    "Rb87.FD2 = 3.8423048457422908911e14 # Marian et al (2004) http://dx.doi.org/10.1126/science.1105660\n",
    "Rb87.LambdaD1 = SI.c/Rb87.FD1\n",
    "Rb87.LambdaD2 = SI.c/Rb87.FD2\n",
    "Rb87.KD1 = 2*np.pi*Rb87.FD1/SI.c\n",
    "Rb87.KD2 = 2*np.pi*Rb87.FD2/SI.c\n",
    "Rb87.Ahfs = {\n",
    "        '5S1/2': 3.417341305452145e9 # Steck (2015) from [29]\n",
    "        ,'5P1/2': 408.3295e6 # Maric et al (2008) http://dx.doi.org/10.1103/PhysRevA.77.032502\n",
    "        ,'5P3/2': 84.7185e6 # Steck (2015) from [9]\n",
    "    }\n",
    "Rb87.Bhfs = {\n",
    "        '5P3/2': 12.4965e6 # Steck (2015) from [9]\n",
    "    }\n",
    "Rb87.Linewidth = {\n",
    "        '5P': 2*np.pi*6.065e6 # Mark?\n",
    "        ,'5P1/2': 2*np.pi*5.7500e6 # Steck (2015) [18,19,21]\n",
    "        ,'5P3/2': 2*np.pi*6.0666e6 # Steck (2015) ?\n",
    "    }\n",
    "Rb87.MassSI = 1.443160648e-25 # Steck (2015) [4]\n",
    "Rb87.RmeSI = SI.me/(1.0 + SI.me/Rb87.MassSI)\n",
    "Rb87.RySI = SI.RyINF*(Rb87.RmeSI/SI.me) # m^-1\n",
    "Rb87.RyCGS = Rb87.RySI/100 # cm^-1\n",
    "Rb87.IsatD2 = {\n",
    "        'cycling' : 16.6933 # W/m^2 Steck (2015) ?\n",
    "        ,'isotropic' : 35.7713 # W/m^2 Steck (2015) ?\n",
    "        ,'pi' : 25.0399 # W/m^2 Steck (2015) ?\n",
    "    }\n",
    "Rb87.IsatD1 = {\n",
    "        'pi' : 44.876 # W/m^2 Steck (2015) ?\n",
    "    }\n",
    "Rb87.TermEnergyGround = -33690.8048 # cm^-1 ground state Hall http://dx.doi.org/10.1364/OL.3.000141"
   ]
  },
  {
   "cell_type": "markdown",
   "metadata": {},
   "source": [
    "## Select Experimental Spectral Lines"
   ]
  },
  {
   "cell_type": "code",
   "execution_count": 6,
   "metadata": {
    "collapsed": true
   },
   "outputs": [],
   "source": [
    "Rb87.TermEnergy = { # explicit low lying level term energys\n",
    "    '4' : { # n=4\n",
    "        '2' : { #L=2 D\n",
    "            '1.5' : Rb87.TermEnergyGround + 19355.649 # cm^-1\n",
    "            ,'2.5' : Rb87.TermEnergyGround + 19355.203 # cm^-1\n",
    "        }\n",
    "        ,'3' : { #L=3 F\n",
    "            '2.5' : Rb87.TermEnergyGround + 26792.092 # cm^-1\n",
    "            ,'3.5' : Rb87.TermEnergyGround + 26792.118 # cm^-1\n",
    "        }\n",
    "    }\n",
    "    ,'5' : { # n=5\n",
    "        '0' : { #L=0 S\n",
    "            '0.5' : Rb87.TermEnergyGround\n",
    "        }\n",
    "        ,'1' : { #L=1 P\n",
    "            '0.5' : Rb87.TermEnergyGround + 12578.95098147 # cm^-1\n",
    "            ,'1.5' : Rb87.TermEnergyGround + 12816.54938993 # cm^-1\n",
    "        }\n",
    "        ,'2' : { #L=2 D\n",
    "            '1.5' : Rb87.TermEnergyGround + 25700.536 # cm^-1\n",
    "            ,'2.5' : Rb87.TermEnergyGround + 25703.498 # cm^-1\n",
    "        }\n",
    "    }\n",
    "    ,'6' : { # n=6\n",
    "        '0' : { #L=0 S\n",
    "            '0.5' : Rb87.TermEnergyGround + 20132.510\n",
    "        }\n",
    "        ,'1' : { #L=1 P\n",
    "            '0.5' : Rb87.TermEnergyGround + 23715.081 # cm^-1\n",
    "            ,'1.5' : Rb87.TermEnergyGround + 23792.591 # cm^-1\n",
    "        }\n",
    "        ,'2' : { #L=2 D\n",
    "            '1.5' : Rb87.TermEnergyGround + 28687.127 # cm^-1\n",
    "            ,'2.5' : Rb87.TermEnergyGround + 28689.390 # cm^-1\n",
    "        }\n",
    "    }\n",
    "    ,'7' : { # n=7\n",
    "        '0' : { #L=0 S\n",
    "            '0.5' : Rb87.TermEnergyGround + 26311.437\n",
    "        }\n",
    "        ,'1' : { #L=1 P\n",
    "            '0.5' : Rb87.TermEnergyGround + 27835.02 # cm^-1\n",
    "            ,'1.5' : Rb87.TermEnergyGround + 27870.11 # cm^-1\n",
    "        }\n",
    "        ,'2' : { #L=2 D\n",
    "            '1.5' : Rb87.TermEnergyGround + 28687.127 # cm^-1\n",
    "            ,'2.5' : Rb87.TermEnergyGround + 28689.390 # cm^-1\n",
    "        }\n",
    "    }\n",
    "    ,'8' : { # n=8\n",
    "        '0' : { #L=0 S\n",
    "            '0.5' : Rb87.TermEnergyGround + 29046.816\n",
    "        }\n",
    "        ,'1' : { #L=1 P\n",
    "            '0.5' : Rb87.TermEnergyGround + 29834.94 # cm^-1\n",
    "            ,'1.5' : Rb87.TermEnergyGround + 29853.79 # cm^-1\n",
    "        }\n",
    "    }\n",
    "    ,'9' : { # n=9\n",
    "        '1' : { #L=1 P\n",
    "            '0.5' : Rb87.TermEnergyGround + 30958.94 # cm^-1\n",
    "            ,'1.5' : Rb87.TermEnergyGround + 30970.22 # cm^-1\n",
    "        }\n",
    "    }\n",
    "    ,'10' : { # n=10\n",
    "        '1' : { #L=1 P\n",
    "            '0.5' : Rb87.TermEnergyGround + 31653.88 # cm^-1\n",
    "            ,'1.5' : Rb87.TermEnergyGround + 31661.19 # cm^-1\n",
    "        }\n",
    "    }\n",
    "    ,'11' : { # n=11\n",
    "        '1' : { #L=1 P\n",
    "            '0.5' : Rb87.TermEnergyGround + 32113.58 # cm^-1\n",
    "            ,'1.5' : Rb87.TermEnergyGround + 32118.55 # cm^-1\n",
    "        }\n",
    "    }\n",
    "    ,'12' : { # n=11\n",
    "        '1' : { #L=1 P\n",
    "            '0.5' : Rb87.TermEnergyGround + 32433.50 # cm^-1\n",
    "            ,'1.5' : Rb87.TermEnergyGround + 32437.04 # cm^-1\n",
    "        }\n",
    "    }\n",
    "}"
   ]
  },
  {
   "cell_type": "markdown",
   "metadata": {},
   "source": [
    "## Quantum Defects"
   ]
  },
  {
   "cell_type": "code",
   "execution_count": 7,
   "metadata": {
    "collapsed": true
   },
   "outputs": [],
   "source": [
    "Rb87.QD0 = [ # 0th order qd terms\n",
    "    { # L = 0, S\n",
    "        '0.5' : 3.1311804\n",
    "    }\n",
    "    ,{ # L = 1, P\n",
    "        '0.5' : 2.6548849\n",
    "        ,'1.5': 2.6416737\n",
    "    }\n",
    "    ,{ # L = 2, D\n",
    "        '1.5' : 1.34809171\n",
    "        ,'2.5': 1.34646572\n",
    "    }\n",
    "    ,{ # L = 3, F\n",
    "        '2.5' : 0.0165192\n",
    "        ,'3.5': 0.0165437\n",
    "    }\n",
    "]\n",
    "Rb87.QD2 = [ # 2nd order qd terms\n",
    "    { # L = 0, S\n",
    "        '0.5' : 0.1784\n",
    "    }\n",
    "    ,{ # L = 1, P\n",
    "        '0.5' : 0.2900\n",
    "        ,'1.5': 0.2950\n",
    "    }\n",
    "    ,{ # L = 2, D\n",
    "        '1.5' : -0.60286\n",
    "        ,'2.5': -0.59600\n",
    "    }\n",
    "    ,{ # L = 3, F\n",
    "        '2.5' : -0.085\n",
    "        ,'3.5': -.086\n",
    "    }\n",
    "]\n",
    "Rb87.QD4 = [ # 4th order qd terms\n",
    "    { # L = 0, S\n",
    "        '0.5' : -1.8\n",
    "    }\n",
    "    ,{ # L = 1, P\n",
    "        '0.5' : -7.904\n",
    "        ,'1.5': -0.97495\n",
    "    }\n",
    "    ,{ # L = 2, D\n",
    "        '1.5' : -1.50517\n",
    "        ,'2.5': -1.50517\n",
    "    }\n",
    "    ,{ # L = 3, F\n",
    "        '2.5' : -.36005\n",
    "        ,'3.5': -.36005\n",
    "    }\n",
    "]"
   ]
  },
  {
   "cell_type": "markdown",
   "metadata": {},
   "source": [
    "## Generating Quantum Defects from Explicit Spectral Lines"
   ]
  },
  {
   "cell_type": "code",
   "execution_count": 8,
   "metadata": {
    "collapsed": false
   },
   "outputs": [],
   "source": [
    "# calculate defects for low-lying levels from the spectroscopy data\n",
    "Rb87.QD = {}\n",
    "for n, nd in Rb87.TermEnergy.iteritems():\n",
    "    Rb87.QD[n] = {}\n",
    "    for l, ld in nd.iteritems():\n",
    "        Rb87.QD[n][l]={}\n",
    "        for j, jd in ld.iteritems():\n",
    "            Rb87.QD[n][l][j] = int(n) - np.sqrt(-Rb87.RyCGS/TermEnergy(Rb87, n, l, j))"
   ]
  },
  {
   "cell_type": "markdown",
   "metadata": {},
   "source": [
    "## Verification of Defects with respect to Mark's old code"
   ]
  },
  {
   "cell_type": "code",
   "execution_count": 9,
   "metadata": {
    "collapsed": false
   },
   "outputs": [
    {
     "name": "stdout",
     "output_type": "stream",
     "text": [
      "-3.02469160829e-12\n",
      "-7.84597847758e-06\n",
      "-0.000438669482906\n",
      "-5.52826658322e-05\n",
      "0\n"
     ]
    }
   ],
   "source": [
    "print(QD(Rb87,20,0,0.5)-3.13178510955)\n",
    "print(QD(Rb87,9,1,1.5)-2.64897056637)\n",
    "print(QD(Rb87,9,2,2.5)-1.33629100633)\n",
    "print(QD(Rb87,9,3,3.5)-0.0154780575013)\n",
    "print(QD(Rb87,9,4,4.5)-0)"
   ]
  },
  {
   "cell_type": "code",
   "execution_count": 10,
   "metadata": {
    "collapsed": false
   },
   "outputs": [
    {
     "name": "stdout",
     "output_type": "stream",
     "text": [
      "-3.02469160829e-12\n",
      "4.00124378075e-12\n",
      "4.38404867964e-12\n",
      "-2.12555667511e-14\n",
      "0\n"
     ]
    }
   ],
   "source": [
    "print(QD(Rb87,20,0)-3.13178510955)\n",
    "print(QD(Rb87,30,1)-2.64646359904)\n",
    "print(QD(Rb87,9,2)-1.33645400157)\n",
    "print(QD(Rb87,9,3)-0.0154175880834)\n",
    "print(QD(Rb87,9,4)-0)"
   ]
  },
  {
   "cell_type": "code",
   "execution_count": 11,
   "metadata": {
    "collapsed": false
   },
   "outputs": [
    {
     "name": "stdout",
     "output_type": "stream",
     "text": [
      "2.44249065418e-12\n",
      "3.10462766606e-12\n",
      "9.30011244016e-07\n",
      "-9.68309335825e-07\n",
      "-7.68924066197e-07\n"
     ]
    }
   ],
   "source": [
    "print(QD(Rb87,5,0,0.5)-3.195237315299605)\n",
    "print(QD(Rb87,5,1,1.5)-2.70717821684838)\n",
    "print(QD(Rb87,5,2,2.5)-1.2934)\n",
    "print(QD(Rb87,6,0,0.5)-3.15506)\n",
    "print(QD(Rb87,6,1,1.5)-2.67036)"
   ]
  },
  {
   "cell_type": "code",
   "execution_count": null,
   "metadata": {
    "collapsed": true
   },
   "outputs": [],
   "source": []
  }
 ],
 "metadata": {
  "kernelspec": {
   "display_name": "Python 2",
   "language": "python",
   "name": "python2"
  },
  "language_info": {
   "codemirror_mode": {
    "name": "ipython",
    "version": 2
   },
   "file_extension": ".py",
   "mimetype": "text/x-python",
   "name": "python",
   "nbconvert_exporter": "python",
   "pygments_lexer": "ipython2",
   "version": "2.7.9"
  }
 },
 "nbformat": 4,
 "nbformat_minor": 0
}
