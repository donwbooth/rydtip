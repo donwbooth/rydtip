{
 "cells": [
  {
   "cell_type": "code",
   "execution_count": 1,
   "metadata": {
    "collapsed": false
   },
   "outputs": [],
   "source": [
    "import scipy.constants as consts\n",
    "from lib.AtomNumbers import QD, Rb87, State, TermEnergy, TransitionFrequency\n",
    "import numpy as np\n",
    "import matplotlib as mpl\n",
    "import matplotlib.pyplot as plt\n",
    "import sqlite3\n",
    "import os.path\n",
    "from sympy import *\n",
    "from sympy.physics.wigner import clebsch_gordan, wigner_6j\n",
    "import datetime\n",
    "%matplotlib inline"
   ]
  },
  {
   "cell_type": "code",
   "execution_count": 2,
   "metadata": {
    "collapsed": false
   },
   "outputs": [
    {
     "name": "stdout",
     "output_type": "stream",
     "text": [
      "2000\n"
     ]
    }
   ],
   "source": [
    "states = []\n",
    "n_min = 50\n",
    "n_max = 150\n",
    "l_max = 1 # stop at f\n",
    "sI = State(97,2,2.5,2.5)\n",
    "mj_total = 2*sI.mj\n",
    "\n",
    "for n in range(n_min,n_max):\n",
    "  for l in [sI.l-1,sI.l+1]:\n",
    "    for j in np.arange(abs(l-0.5),l+1): # l+0.5 doesn't regiser the second j value\n",
    "      for mj in np.arange(-j,j+0.5):\n",
    "        s=State(n,l,j,mj)\n",
    "        states.append([s, TransitionFrequency(Rb87,sI,s)])\n",
    "          \n",
    "print(len(states))"
   ]
  },
  {
   "cell_type": "markdown",
   "metadata": {},
   "source": [
    "### calculate forster defects"
   ]
  },
  {
   "cell_type": "code",
   "execution_count": 3,
   "metadata": {
    "collapsed": false
   },
   "outputs": [
    {
     "name": "stdout",
     "output_type": "stream",
     "text": [
      "190\n"
     ]
    }
   ],
   "source": [
    "EnergyCut = 1e9 # only consider states within 1 Ghz\n",
    "molecular_states = []\n",
    "\n",
    "for s1 in states:\n",
    "  for s2 in states:\n",
    "    # molecular dissociation energy limit relative to the initial state\n",
    "    molecular_energy = s1[1][0]+s2[1][0]\n",
    "    if abs(molecular_energy) <= EnergyCut:\n",
    "      if s1[0].mj + s2[0].mj == mj_total:\n",
    "        molecular_states.append([(s1[0],s2[0]), molecular_energy])\n",
    "\n",
    "print(len(molecular_states))"
   ]
  },
  {
   "cell_type": "markdown",
   "metadata": {},
   "source": [
    "### radial matrix elements from the database"
   ]
  },
  {
   "cell_type": "code",
   "execution_count": 4,
   "metadata": {
    "collapsed": false
   },
   "outputs": [],
   "source": [
    "db_file = os.path.join('data','RMEdbs','Rb87.sqlite3') \n",
    "if not os.path.isfile(db_file):\n",
    "  print(\"No database file found\")"
   ]
  },
  {
   "cell_type": "code",
   "execution_count": 5,
   "metadata": {
    "collapsed": true
   },
   "outputs": [],
   "source": [
    "def RMEs(state, n_range, l2, j2):\n",
    "  # assumes l2 >= l1, if not swap\n",
    "  if int(l2) < state.l:\n",
    "    if state.j == float(j2):\n",
    "      j_index = 1\n",
    "    elif float(j2) > int(l2):\n",
    "      j_index = 2\n",
    "    else:\n",
    "      j_index = 0\n",
    "    l_str = int(l2)*10 + state.l\n",
    "      \n",
    "  else: # otherwise do the normal order\n",
    "    if state.j == float(j2):\n",
    "      j_index = 1\n",
    "    elif state.j > state.l:\n",
    "      j_index = 2\n",
    "    else:\n",
    "      j_index = 0\n",
    "    l_str = int(l2) + state.l*10\n",
    "\n",
    "  js = [\"jmjpm\", \"jpjpm\", \"jpjpp\"][j_index]\n",
    "  subs = (state.n, n_range[0], n_range[1])\n",
    "  query = \"\"\"SELECT n, {} FROM L{} WHERE np=? AND n>=? AND n<=?\"\"\".format(js, l_str)\n",
    "  \n",
    "  conn = sqlite3.connect(db_file)\n",
    "  c = conn.cursor()\n",
    "  return c.execute(query, subs)"
   ]
  },
  {
   "cell_type": "code",
   "execution_count": 6,
   "metadata": {
    "collapsed": true
   },
   "outputs": [],
   "source": [
    "def RME(state1, state2):\n",
    "  # assumes l2 >= l1, if not swap\n",
    "  if state2.l < state1.l:\n",
    "    l_str = state2.l*10 + state1.l\n",
    "    n1, l1, j1 = ( state2.n, state2.l, state2.j )\n",
    "    n2, l2, j2 = ( state1.n, state1.l, state1.j )\n",
    "    \n",
    "  else: # otherwise do the normal order\n",
    "    l_str = state2.l + state1.l*10\n",
    "    n1, l1, j1 = ( state1.n, state1.l, state1.j )\n",
    "    n2, l2, j2 = ( state2.n, state2.l, state2.j )\n",
    "\n",
    "  if j1 == j2:\n",
    "    j_index = 1\n",
    "  elif j1 > l1:\n",
    "    j_index = 2\n",
    "  else:\n",
    "    j_index = 0\n",
    "  js = [\"jmjpm\", \"jpjpm\", \"jpjpp\"][j_index]\n",
    "  subs = (n1, n2)\n",
    "  query = \"\"\"SELECT {} FROM L{} WHERE n=? AND np=? LIMIT 1\"\"\".format(js, l_str)\n",
    "  \n",
    "  conn = sqlite3.connect(db_file)\n",
    "  c = conn.cursor()\n",
    "  c.execute(query, subs)\n",
    "  return c.fetchone()[0]"
   ]
  },
  {
   "cell_type": "code",
   "execution_count": 7,
   "metadata": {
    "collapsed": false
   },
   "outputs": [
    {
     "name": "stdout",
     "output_type": "stream",
     "text": [
      "-2.51450167632\n",
      "-2.51450167632\n",
      "-2.03519312761\n"
     ]
    }
   ],
   "source": [
    "print(RME(State(12, 2, 1.5), State(11, 1, 1.5)))\n",
    "print(RME(State(11, 1, 1.5), State(12, 2, 1.5)))\n",
    "print(RME(State(11, 1, 0.5), State(12, 2, 1.5)))"
   ]
  },
  {
   "cell_type": "markdown",
   "metadata": {
    "collapsed": false
   },
   "source": [
    "### Angular Matrix Elements"
   ]
  },
  {
   "cell_type": "markdown",
   "metadata": {},
   "source": [
    "#### We use a symbolic package to deal with the wigner symbols to avoid numerical errors"
   ]
  },
  {
   "cell_type": "code",
   "execution_count": 8,
   "metadata": {
    "collapsed": false
   },
   "outputs": [],
   "source": [
    "# p is -1, 0, 1\n",
    "def AME(state1, state2, p):\n",
    "  l1, j1, m1 = state1.angular_momentum()\n",
    "  l2, j2, m2 = state2.angular_momentum()\n",
    "  res =(-1)**int(j1+l2-0.5)*sqrt((2*j1+1)*(2*l1+1))\n",
    "  res *= clebsch_gordan(j1, 1, j2, m1, p, m2)\n",
    "  res *= clebsch_gordan(l1, 1, l2, 0, 0, 0)\n",
    "  res *= wigner_6j(l1,0.5,j1,j2,1,l2)\n",
    "  return res"
   ]
  },
  {
   "cell_type": "code",
   "execution_count": 9,
   "metadata": {
    "collapsed": false
   },
   "outputs": [
    {
     "data": {
      "text/plain": [
       "0.489897948556636"
      ]
     },
     "execution_count": 9,
     "metadata": {},
     "output_type": "execute_result"
    }
   ],
   "source": [
    "N(AME(State(5,1,1.5,0.5),State(5,2,2.5,1.5),1))"
   ]
  },
  {
   "cell_type": "code",
   "execution_count": 10,
   "metadata": {
    "collapsed": false
   },
   "outputs": [
    {
     "data": {
      "text/plain": [
       "0.282842712474619*sqrt(3)"
      ]
     },
     "execution_count": 10,
     "metadata": {},
     "output_type": "execute_result"
    }
   ],
   "source": [
    "AME(State(5,1,1.5,0.5),State(5,2,2.5,1.5),1)"
   ]
  },
  {
   "cell_type": "markdown",
   "metadata": {},
   "source": [
    "### c_3 Coefficient Maker"
   ]
  },
  {
   "cell_type": "code",
   "execution_count": 11,
   "metadata": {
    "collapsed": false
   },
   "outputs": [],
   "source": [
    "GHz_um3_factor = 1e9*(1/(4*np.pi*consts.epsilon_0))*consts.e**2\n",
    "GHz_um3_factor *= consts.physical_constants['Bohr radius'][0]**2/(2*np.pi*consts.hbar)\n",
    "  \n",
    "# returns the c3 coefficient for the two states\n",
    "def c3(stateI1, stateI2, stateF1, stateF2):\n",
    "  # electric dipole transitions\n",
    "  if(abs(stateI1.l-stateF1.l) != 1):\n",
    "    return 0\n",
    "  if(abs(stateI2.l-stateF2.l) != 1):\n",
    "    return 0\n",
    "  \n",
    "  p = stateF1.mj - stateI1.mj # -1,0,+1\n",
    "  if abs(p)>1:\n",
    "    return 0\n",
    "  if stateI2.mj - stateF2.mj != p: # dmj = 0\n",
    "    return 0\n",
    "  \n",
    "  a = AME(stateI1, stateF1, p)*RME(stateI1, stateF1)\n",
    "  b = AME(stateI2, stateF2, -p)*RME(stateI2, stateF2)\n",
    "  c = clebsch_gordan(1,1,2,p,-p,0)\n",
    "  return N(-GHz_um3_factor*sqrt(6)*c*a*b)"
   ]
  },
  {
   "cell_type": "code",
   "execution_count": 12,
   "metadata": {
    "collapsed": false
   },
   "outputs": [
    {
     "data": {
      "text/plain": [
       "3.72430093520393e-6"
      ]
     },
     "execution_count": 12,
     "metadata": {},
     "output_type": "execute_result"
    }
   ],
   "source": [
    "s0=State(97,2,2.5,2.5)\n",
    "sf1=State(99,1,1.5,1.5)\n",
    "sf2=State(95,3,3.5,3.5)\n",
    "c3(s0,s0,sf1,sf2)-21.7965 # check against older values"
   ]
  },
  {
   "cell_type": "code",
   "execution_count": 13,
   "metadata": {
    "collapsed": false
   },
   "outputs": [
    {
     "data": {
      "text/plain": [
       "5.17366347452253e-6"
      ]
     },
     "execution_count": 13,
     "metadata": {},
     "output_type": "execute_result"
    }
   ],
   "source": [
    "s0=State(97,2,2.5,2.5)\n",
    "sf1=State(98,1,1.5,1.5)\n",
    "sf2=State(96,3,3.5,3.5)\n",
    "c3(s0,s0,sf1,sf2)-61.1639 # check against older values"
   ]
  },
  {
   "cell_type": "markdown",
   "metadata": {},
   "source": [
    "### Build the Hamiltonian"
   ]
  },
  {
   "cell_type": "code",
   "execution_count": 14,
   "metadata": {
    "collapsed": true
   },
   "outputs": [],
   "source": [
    "dimension = len(molecular_states)+1 # add on the initial state\n",
    "Hcoupling = np.zeros((dimension,dimension))\n",
    "energies = np.zeros(dimension)\n",
    "for i in xrange(dimension-1):\n",
    "  ms = molecular_states[i]\n",
    "  temp = c3(s0,s0,ms[0][0],ms[0][1])\n",
    "  Hcoupling[i][-1] = temp\n",
    "  Hcoupling[-1][i] = temp\n",
    "  energies[i] = ms[1]*1e-9 # in GHz"
   ]
  },
  {
   "cell_type": "code",
   "execution_count": 15,
   "metadata": {
    "collapsed": true
   },
   "outputs": [],
   "source": [
    "def getReleventCouplings(couplings, forsters, r, ccut, ecut = 1):\n",
    "    # get the center molecular state (energy is 0 by design)\n",
    "    cindex = np.abs(forsters).argsort()[0]\n",
    "    r3 = r**3\n",
    "    # make the hamiltonian at r\n",
    "    H=(np.divide(couplings, r3) + np.diag(forsters))\n",
    "    # do the thing\n",
    "    e, v = np.linalg.eig(H)\n",
    "    v = np.asarray(v)\n",
    "    # save the data that has coupling greater than ccut\n",
    "    data = []\n",
    "    for i in range(len(v)):\n",
    "        if (abs(v[cindex][i]) >= ccut) and (abs(e[i]) <= ecut):\n",
    "            data.append([ r, np.real(e[i]), (np.real(v[cindex][i]))**2, np.abs(v[:,i]).argsort()[-5:][::-1] ])\n",
    "    \n",
    "    return data #[ r(um), E(r) (GHz), overlap with center state, largest overlaps from basis states ]"
   ]
  },
  {
   "cell_type": "markdown",
   "metadata": {},
   "source": [
    "#### verify at large R (100 um)"
   ]
  },
  {
   "cell_type": "code",
   "execution_count": 16,
   "metadata": {
    "collapsed": false
   },
   "outputs": [
    {
     "data": {
      "text/plain": [
       "[[100,\n",
       "  array(-3.8002538873498926e-08),\n",
       "  0.99999982334140536,\n",
       "  array([190,  96,  93,  92,  97])]]"
      ]
     },
     "execution_count": 16,
     "metadata": {},
     "output_type": "execute_result"
    }
   ],
   "source": [
    "getReleventCouplings(Hcoupling, energies, 100, 0.001)"
   ]
  },
  {
   "cell_type": "markdown",
   "metadata": {},
   "source": [
    "#### Calculate blockade curves"
   ]
  },
  {
   "cell_type": "code",
   "execution_count": 17,
   "metadata": {
    "collapsed": true
   },
   "outputs": [],
   "source": [
    "data = []"
   ]
  },
  {
   "cell_type": "code",
   "execution_count": 18,
   "metadata": {
    "collapsed": false
   },
   "outputs": [
    {
     "name": "stdout",
     "output_type": "stream",
     "text": [
      "3.0\n",
      "15:12:40.996319\n",
      "4.01002004008\n",
      "15:12:43.697956\n",
      "5.02004008016\n",
      "15:12:46.231068\n",
      "6.00601202405\n",
      "15:12:49.387223\n",
      "7.01603206413\n",
      "15:12:52.513072\n",
      "8.00200400802\n",
      "15:12:54.979574\n",
      "9.0120240481\n",
      "15:12:57.498908\n",
      "10.0220440882\n",
      "15:13:00.018108\n",
      "11.0080160321\n",
      "15:13:02.482754\n",
      "12.0180360721\n",
      "15:13:05.014878\n",
      "13.004008016\n",
      "15:13:07.474644\n",
      "14.0140280561\n",
      "15:13:10.271136\n",
      "15.0\n",
      "15:13:12.889713\n"
     ]
    }
   ],
   "source": [
    "r_start = 3\n",
    "r_stop = 15\n",
    "samples = 500\n",
    "r_last = 0\n",
    "for r in np.linspace(r_start,r_stop,samples):\n",
    "    current_time = datetime.datetime.now().time()\n",
    "    if int(r) > int(r_last):\n",
    "      print(r)\n",
    "      print(current_time.isoformat())\n",
    "      r_last = r\n",
    "    data = data + getReleventCouplings(Hcoupling, energies, r, 0.01, 1.0)"
   ]
  },
  {
   "cell_type": "code",
   "execution_count": 19,
   "metadata": {
    "collapsed": false
   },
   "outputs": [],
   "source": [
    "mark_r = [0.20202, 0.40404, 0.606061, 0.808081, 1.0101, 1.21212, 1.41414, \\\n",
    "1.61616, 1.81818, 2.0202, 2.22222, 2.42424, 2.62626, 2.82828, 3.0303, \\\n",
    "3.23232, 3.43434, 3.63636, 3.83838, 4.0404, 4.24242, 4.44444, \\\n",
    "4.64646, 4.84848, 5.05051, 5.25253, 5.45455, 5.65657, 5.85859, \\\n",
    "6.06061, 6.26263, 6.46465, 6.66667, 6.86869, 7.07071, 7.27273, \\\n",
    "7.47475, 7.67677, 7.87879, 8.08081, 8.28283, 8.48485, 8.68687, \\\n",
    "8.88889, 9.09091, 9.29293, 9.49495, 9.69697, 9.89899, 10.101, 10.303, \\\n",
    "10.5051, 10.7071, 10.9091, 11.1111, 11.3131, 11.5152, 11.7172, \\\n",
    "11.9192, 12.1212, 12.3232, 12.5253, 12.7273, 12.9293, 13.1313, \\\n",
    "13.3333, 13.5354, 13.7374, 13.9394, 14.1414, 14.3434, 14.5455, \\\n",
    "14.7475, 14.9495, 15.1515, 15.3535, 15.5556, 15.7576, 15.9596, \\\n",
    "16.1616, 16.3636, 16.5657, 16.7677, 16.9697, 17.1717, 17.3737, \\\n",
    "17.5758, 17.7778, 17.9798, 18.1818, 18.3838, 18.5859, 18.7879, \\\n",
    "18.9899, 19.1919, 19.3939, 19.596, 19.798, 20.]\n",
    "mark_B = [-10966.3, -1370.79, -406.16, -171.349, -87.7303, -50.7695, -31.971, \\\n",
    "-21.4175, -15.0414, -10.9642, -8.23635, -6.34261, -4.98687, -3.99069, \\\n",
    "-3.24218, -2.66872, -2.22181, -1.86818, -1.58454, -1.35422, -1.16507, \\\n",
    "-1.00814, -0.876692, -0.76563, -0.671032, -0.589863, -0.51975, \\\n",
    "-0.458827, -0.405612, -0.358925, -0.317818, -0.281522, -0.24941, \\\n",
    "-0.220963, -0.195746, -0.17339, -0.153577, -0.136026, -0.120493, \\\n",
    "-0.106757, -0.0946198, -0.0839036, -0.074448, -0.0661083, -0.0587547, \\\n",
    "-0.0522711, -0.0465538, -0.0415106, -0.0370599, -0.0331295, \\\n",
    "-0.0296559, -0.0265832, -0.0238624, -0.0214505, -0.01931, -0.017408, \\\n",
    "-0.0157157, -0.0142081, -0.0128632, -0.0116618, -0.0105871, \\\n",
    "-0.00962452, -0.00876107, -0.00798552, -0.00728798, -0.00665975, \\\n",
    "-0.00609318, -0.00558157, -0.00511896, -0.00470014, -0.00432048, \\\n",
    "-0.0039759, -0.00366277, -0.00337787, -0.00311837, -0.00288173, \\\n",
    "-0.00266568, -0.00246822, -0.00228756, -0.00212208, -0.00197036, \\\n",
    "-0.0018311, -0.00170316, -0.0015855, -0.0014772, -0.00137741, \\\n",
    "-0.00128538, -0.00120043, -0.00112194, -0.00104937, -0.000982209, \\\n",
    "-0.00092, -0.000862334, -0.000808835, -0.000759164, -0.000713011, \\\n",
    "-0.000670096, -0.00063016, -0.000592972]"
   ]
  },
  {
   "cell_type": "code",
   "execution_count": 20,
   "metadata": {
    "collapsed": false
   },
   "outputs": [
    {
     "data": {
      "image/png": "[encoded data removed]",
      "text/plain": [
       "<matplotlib.figure.Figure at 0x7f53f95e0d10>"
      ]
     },
     "metadata": {},
     "output_type": "display_data"
    }
   ],
   "source": [
    "plt.figure(figsize=(12,8))\n",
    "\n",
    "x =[]\n",
    "x.append([ d[0] for d in data ])\n",
    "x.append([ d[1] for d in data ])\n",
    "x.append(np.real([ 1-sqrt(d[2]) for d in data ]))\n",
    "\n",
    "idx = x[2].argsort()[::-1]\n",
    "x[0] = [ x[0][i] for i in idx ]\n",
    "x[1] = [ x[1][i] for i in idx ]\n",
    "x[2] = [ x[2][i] for i in idx ]\n",
    "\n",
    "plt.scatter(x[0], x[1], c=x[2], marker='o', s=30, vmax=1, vmin=0, linewidth=0, alpha=1)\n",
    "plt.plot(mark_r,mark_B, color='r')\n",
    "\n",
    "plt.gray()\n",
    "plt.ylim(-0.5,0.5)\n",
    "\n",
    "plt.grid(b=True, which='major', color='0.5', linestyle='-')\n",
    "plt.grid(b=True, which='minor', color='0.75', linestyle='--')\n",
    "\n",
    "plt.title('Rybderg Blockade ${}+{}$, B=0 T'.format(s0,s0), fontsize=24)\n",
    "plt.xlabel('$R (\\mu m)$', fontsize=20)\n",
    "plt.ylabel('U (GHz)', fontsize=20)\n",
    "\n",
    "#plt.savefig('MolecularResonances_B=370uT_97D52m52_97D52m52.pdf')\n",
    "plt.show()"
   ]
  },
  {
   "cell_type": "code",
   "execution_count": null,
   "metadata": {
    "collapsed": true
   },
   "outputs": [],
   "source": []
  }
 ],
 "metadata": {
  "kernelspec": {
   "display_name": "Python 2",
   "language": "python",
   "name": "python2"
  },
  "language_info": {
   "codemirror_mode": {
    "name": "ipython",
    "version": 2
   },
   "file_extension": ".py",
   "mimetype": "text/x-python",
   "name": "python",
   "nbconvert_exporter": "python",
   "pygments_lexer": "ipython2",
   "version": "2.7.9"
  }
 },
 "nbformat": 4,
 "nbformat_minor": 0
}
