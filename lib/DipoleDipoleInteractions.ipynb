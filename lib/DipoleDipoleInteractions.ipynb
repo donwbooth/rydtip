{
 "cells": [
  {
   "cell_type": "code",
   "execution_count": 1,
   "metadata": {
    "collapsed": false
   },
   "outputs": [
    {
     "name": "stdout",
     "output_type": "stream",
     "text": [
      "No database file found at data/RMEdbs/Rb87.sqlite3\n",
      "No database file found at data/RMEdbs/Rb87.sqlite3\n"
     ]
    }
   ],
   "source": [
    "from AtomNumbers import State, TermEnergy, Rb87\n",
    "import numpy as np\n",
    "import matplotlib as mpl\n",
    "import matplotlib.pyplot as plt\n",
    "import itertools\n",
    "import scipy.constants as consts\n",
    "from sympy import *\n",
    "from sympy.physics.wigner import clebsch_gordan"
   ]
  },
  {
   "cell_type": "code",
   "execution_count": 2,
   "metadata": {
    "collapsed": false
   },
   "outputs": [],
   "source": [
    "def getRelevantCouplings(couplings, forsters, r, ccut, ecut = 1):\n",
    "    # get the center molecular state (energy is 0 by design)\n",
    "    cindex = np.abs(forsters).argsort()[0]\n",
    "    r3 = r**3\n",
    "    # make the hamiltonian at r\n",
    "    H=(np.divide(couplings, r3) + np.diag(forsters))\n",
    "    # do the thing\n",
    "    e, v = np.linalg.eig(H)\n",
    "    v = np.asarray(v)\n",
    "    #print(e)\n",
    "    # save the data that has coupling greater than ccut\n",
    "    data = []\n",
    "    for i in range(len(v)):\n",
    "        if (abs(v[cindex][i]) >= ccut) and (abs(e[i]) <= ecut):\n",
    "            data.append([ r, np.real(e[i]), (np.real(v[cindex][i]))**2, np.abs(v[:,i]).argsort()[-5:][::-1] ])\n",
    "    \n",
    "    return data #[ r(um), E(r) (GHz), overlap with center state, largest overlaps from basis states ]"
   ]
  },
  {
   "cell_type": "code",
   "execution_count": 3,
   "metadata": {
    "collapsed": false
   },
   "outputs": [],
   "source": [
    "# return a list of states that ED couple to the input states\n",
    "def next_ED_order(m_states):\n",
    "  newStates=set() # set class maintains uniqueness automatically\n",
    "  for ms in m_states:\n",
    "    m_total = ms[0][0].mj + ms[0][1].mj # total angualr momentum is conserved\n",
    "    for new_ms in itertools.product(coupled_angmom_states(ms[0][0]), coupled_angmom_states(ms[0][1])):\n",
    "      if (new_ms[0][-1] + new_ms[1][-1]) == m_total:\n",
    "        newStates.add(new_ms)\n",
    "  return newStates"
   ]
  },
  {
   "cell_type": "code",
   "execution_count": 4,
   "metadata": {
    "collapsed": true
   },
   "outputs": [],
   "source": [
    "# return a set of angular momentum states that could ED couple to the input state\n",
    "def coupled_angmom_states(state):\n",
    "  all_states = []\n",
    "  ll = state.l\n",
    "  for l in np.arange(abs(ll-1),ll+1.1,2):\n",
    "    for j in np.arange(abs(l-0.5),l+0.6):\n",
    "      if abs(j-state.j) <= 1:\n",
    "        for mj in np.linspace(-j,j,int(2*j+1)):\n",
    "          if abs(mj-state.mj) <= 1:\n",
    "            all_states.append((l,j,mj))\n",
    "  return all_states"
   ]
  },
  {
   "cell_type": "code",
   "execution_count": 5,
   "metadata": {
    "collapsed": false
   },
   "outputs": [
    {
     "data": {
      "text/plain": [
       "[(1.0, 1.5, 1.5),\n",
       " (3.0, 2.5, 1.5),\n",
       " (3.0, 2.5, 2.5),\n",
       " (3.0, 3.5, 1.5),\n",
       " (3.0, 3.5, 2.5),\n",
       " (3.0, 3.5, 3.5)]"
      ]
     },
     "execution_count": 5,
     "metadata": {},
     "output_type": "execute_result"
    }
   ],
   "source": [
    "coupled_angmom_states(State(97,2,2.5,2.5))"
   ]
  },
  {
   "cell_type": "code",
   "execution_count": 6,
   "metadata": {
    "collapsed": true
   },
   "outputs": [],
   "source": [
    "ang_mom_list=list(next_ED_order([[(State(97,2,2.5,2.5),State(97,2,2.5,2.5)),5555]]))"
   ]
  },
  {
   "cell_type": "code",
   "execution_count": 7,
   "metadata": {
    "collapsed": false
   },
   "outputs": [
    {
     "data": {
      "text/plain": [
       "[((3.0, 3.5, 2.5), (3.0, 3.5, 2.5)),\n",
       " ((3.0, 2.5, 1.5), (3.0, 3.5, 3.5)),\n",
       " ((3.0, 2.5, 2.5), (3.0, 3.5, 2.5)),\n",
       " ((3.0, 3.5, 3.5), (3.0, 3.5, 1.5)),\n",
       " ((3.0, 3.5, 1.5), (3.0, 3.5, 3.5)),\n",
       " ((3.0, 2.5, 2.5), (3.0, 2.5, 2.5)),\n",
       " ((3.0, 3.5, 3.5), (3.0, 2.5, 1.5)),\n",
       " ((3.0, 3.5, 2.5), (3.0, 2.5, 2.5)),\n",
       " ((3.0, 3.5, 3.5), (1.0, 1.5, 1.5)),\n",
       " ((1.0, 1.5, 1.5), (3.0, 3.5, 3.5))]"
      ]
     },
     "execution_count": 7,
     "metadata": {},
     "output_type": "execute_result"
    }
   ],
   "source": [
    "ang_mom_list"
   ]
  },
  {
   "cell_type": "code",
   "execution_count": 19,
   "metadata": {
    "collapsed": false
   },
   "outputs": [],
   "source": [
    "# returns list of states passing the n-level, energy-level, and C3 coupling strength cut at r=R0 (C3/R0**3)\n",
    "def filter_molecular_states(atom, state1, state2, mol_angmon, F_cut, R0, n1_range, n2_range):\n",
    "  # save states as tuples first, then convert into State classes\n",
    "  # since I doubt that the set stuff will work correctly with classes\n",
    "  newStates = set()\n",
    "  E0 = abs(consts.c*(TermEnergy(atom, state1)[0] + TermEnergy(atom, state2)[0])) # Hz\n",
    "  for ang_states in mol_angmon:\n",
    "    #print ang_states\n",
    "    p = ang_states[0][-1] - state1.mj\n",
    "    dl1 = state1.l - ang_states[0][0]\n",
    "    dl2 = state2.l - ang_states[1][0]\n",
    "    if (abs(p)<=1) and (abs(dl1)==1) and (abs(dl2)==1):   \n",
    "      # rme database lookups\n",
    "      l1b, j1b, mj1b = ang_states[0]\n",
    "      l2b, j2b, mj2b = ang_states[1]\n",
    "      # precalculate angular factors\n",
    "      ang_factor = atom.AME(state1, State(0,l1b,j1b,mj1b), p)\n",
    "      ang_factor *= atom.AME(state2, State(0,l2b,j2b,mj2b), -p)\n",
    "      ang_factor *= clebsch_gordan(1,1,2,p,-p,0)\n",
    "      # calculate threshold to add molecular state to the basis\n",
    "      if ang_factor != 0:\n",
    "        cut = abs(N(F_cut*R0**3/(ang_factor*atom.GHz_um3_factor*sqrt(6.0))))\n",
    "        #print(\"cut: {}\".format(cut))\n",
    "        # now check all permutations of the n-levels in the range\n",
    "        s1bs = [ [ (x[0],)+ang_states[0], x[1]] for x in atom.RMEs(state1,n1_range,l1b,j1b) ]\n",
    "        s2bs = [ [ (x[0],)+ang_states[1], x[1]] for x in atom.RMEs(state2,n2_range,l2b,j2b) ]\n",
    "        for ms in itertools.product(s1bs,s2bs):\n",
    "          state1b = State(ms[0][0][0],ms[0][0][1],ms[0][0][2],ms[0][0][3])\n",
    "          state2b = State(ms[1][0][0],ms[1][0][1],ms[1][0][2],ms[1][0][3])\n",
    "          # check the energy first since its easier\n",
    "          E = abs(consts.c*(TermEnergy(atom, state1b)[0] + TermEnergy(atom, state2b)[0])) # Hz\n",
    "               \n",
    "          if abs(ms[0][1]*ms[1][1]/((E-E0)*1e-9)) > cut:\n",
    "            #print(\"E (GHz): {}\".format((E-E0)*1e-9))\n",
    "            newStates.add((ms[0][0],ms[1][0]))\n",
    "  return newStates"
   ]
  },
  {
   "cell_type": "code",
   "execution_count": 20,
   "metadata": {
    "collapsed": false
   },
   "outputs": [
    {
     "name": "stdout",
     "output_type": "stream",
     "text": [
      "((3.0, 3.5, 2.5), (3.0, 3.5, 2.5))\n",
      "cut: 113075929.837376\n",
      "((3.0, 2.5, 1.5), (3.0, 3.5, 3.5))\n",
      "cut: 468178828.628314\n",
      "((3.0, 2.5, 2.5), (3.0, 3.5, 2.5))\n",
      "cut: 276978330.292323\n",
      "((3.0, 3.5, 3.5), (3.0, 3.5, 1.5))\n",
      "cut: 296102290.147023\n",
      "((3.0, 3.5, 1.5), (3.0, 3.5, 3.5))\n",
      "cut: 296102290.147023\n",
      "((3.0, 2.5, 2.5), (3.0, 2.5, 2.5))\n",
      "cut: 678455579.024255\n",
      "((3.0, 3.5, 3.5), (3.0, 2.5, 1.5))\n",
      "cut: 468178828.628314\n",
      "((3.0, 3.5, 2.5), (3.0, 2.5, 2.5))\n",
      "cut: 276978330.292323\n",
      "((3.0, 3.5, 3.5), (1.0, 1.5, 1.5))\n",
      "cut: 66882689.8040448\n",
      "E (GHz): -0.148413459858\n",
      "E (GHz): -0.236731656209\n",
      "((1.0, 1.5, 1.5), (3.0, 3.5, 3.5))\n",
      "cut: 66882689.8040448\n",
      "E (GHz): -0.236731656209\n",
      "E (GHz): -0.148413459858\n",
      "set([((98, 1.0, 1.5, 1.5), (96, 3.0, 3.5, 3.5)), ((96, 3.0, 3.5, 3.5), (98, 1.0, 1.5, 1.5)), ((99, 1.0, 1.5, 1.5), (95, 3.0, 3.5, 3.5)), ((95, 3.0, 3.5, 3.5), (99, 1.0, 1.5, 1.5))])\n"
     ]
    }
   ],
   "source": [
    "if __name__ == \"__main__\":\n",
    "  sI=State(97,2,2.5,2.5)\n",
    "  print(filter_molecular_states(Rb87, sI, sI, ang_mom_list, 1, 3, (80,120),(80,120)))"
   ]
  },
  {
   "cell_type": "code",
   "execution_count": null,
   "metadata": {
    "collapsed": true
   },
   "outputs": [],
   "source": []
  }
 ],
 "metadata": {
  "kernelspec": {
   "display_name": "Python 2",
   "language": "python",
   "name": "python2"
  },
  "language_info": {
   "codemirror_mode": {
    "name": "ipython",
    "version": 2
   },
   "file_extension": ".py",
   "mimetype": "text/x-python",
   "name": "python",
   "nbconvert_exporter": "python",
   "pygments_lexer": "ipython2",
   "version": "2.7.9"
  }
 },
 "nbformat": 4,
 "nbformat_minor": 0
}
